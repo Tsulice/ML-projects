{
  "nbformat": 4,
  "nbformat_minor": 0,
  "metadata": {
    "kernelspec": {
      "display_name": "Python 3",
      "language": "python",
      "name": "python3"
    },
    "language_info": {
      "codemirror_mode": {
        "name": "ipython",
        "version": 3
      },
      "file_extension": ".py",
      "mimetype": "text/x-python",
      "name": "python",
      "nbconvert_exporter": "python",
      "pygments_lexer": "ipython3",
      "version": "3.8.0"
    },
    "colab": {
      "name": "TP8_Fairness_Cylia_ABBAD_Alice_TOURRET.ipynb",
      "provenance": [],
      "collapsed_sections": [],
      "include_colab_link": true
    }
  },
  "cells": [
    {
      "cell_type": "markdown",
      "metadata": {
        "id": "view-in-github",
        "colab_type": "text"
      },
      "source": [
        "<a href=\"https://colab.research.google.com/github/Tsulice/ML-projects/blob/main/TP8_Fairness_Cylia_ABBAD_Alice_TOURRET.ipynb\" target=\"_parent\"><img src=\"https://colab.research.google.com/assets/colab-badge.svg\" alt=\"Open In Colab\"/></a>"
      ]
    },
    {
      "cell_type": "code",
      "metadata": {
        "id": "ybdGQHQLPVCs"
      },
      "source": [
        "import os\n",
        "import csv\n",
        "import pandas as pd\n",
        "import numpy as np\n",
        "import seaborn as sns\n",
        "from sklearn.ensemble import RandomForestClassifier\n",
        "from sklearn.model_selection import train_test_split\n",
        "from sklearn.metrics import accuracy_score, precision_score, recall_score, f1_score, confusion_matrix\n",
        "import io\n",
        "import matplotlib.pyplot as plt"
      ],
      "execution_count": null,
      "outputs": []
    },
    {
      "cell_type": "code",
      "metadata": {
        "id": "3P2ck75Ug3oU",
        "colab": {
          "resources": {
            "http://localhost:8080/nbextensions/google.colab/files.js": {
              "data": "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",
              "ok": true,
              "headers": [
                [
                  "content-type",
                  "application/javascript"
                ]
              ],
              "status": 200,
              "status_text": ""
            }
          },
          "base_uri": "https://localhost:8080/",
          "height": 72
        },
        "outputId": "38af911e-50c5-4ec1-df11-3dbaa78e5133"
      },
      "source": [
        "# cll dataset\n",
        "datafile=\"\"\n",
        "# 0- read the file\n",
        "from google.colab import files\n",
        "uploaded = files.upload()"
      ],
      "execution_count": null,
      "outputs": [
        {
          "output_type": "display_data",
          "data": {
            "text/html": [
              "\n",
              "     <input type=\"file\" id=\"files-1e1f199b-0831-4c03-9843-d1581c74daca\" name=\"files[]\" multiple disabled\n",
              "        style=\"border:none\" />\n",
              "     <output id=\"result-1e1f199b-0831-4c03-9843-d1581c74daca\">\n",
              "      Upload widget is only available when the cell has been executed in the\n",
              "      current browser session. Please rerun this cell to enable.\n",
              "      </output>\n",
              "      <script src=\"/nbextensions/google.colab/files.js\"></script> "
            ],
            "text/plain": [
              "<IPython.core.display.HTML object>"
            ]
          },
          "metadata": {
            "tags": []
          }
        },
        {
          "output_type": "stream",
          "text": [
            "Saving cll_dataset.csv to cll_dataset.csv\n"
          ],
          "name": "stdout"
        }
      ]
    },
    {
      "cell_type": "code",
      "metadata": {
        "id": "9YFdAV1gg9r2",
        "colab": {
          "base_uri": "https://localhost:8080/",
          "height": 164
        },
        "outputId": "a4c11cf4-61c2-4d43-bc71-c6bfb4d331c6"
      },
      "source": [
        "cll_dataset = pd.read_csv(io.BytesIO(uploaded['cll_dataset.csv']))"
      ],
      "execution_count": null,
      "outputs": [
        {
          "output_type": "error",
          "ename": "KeyError",
          "evalue": "ignored",
          "traceback": [
            "\u001b[0;31m---------------------------------------------------------------------------\u001b[0m",
            "\u001b[0;31mKeyError\u001b[0m                                  Traceback (most recent call last)",
            "\u001b[0;32m<ipython-input-56-052739e9710f>\u001b[0m in \u001b[0;36m<module>\u001b[0;34m()\u001b[0m\n\u001b[0;32m----> 1\u001b[0;31m \u001b[0mcll_dataset\u001b[0m \u001b[0;34m=\u001b[0m \u001b[0mpd\u001b[0m\u001b[0;34m.\u001b[0m\u001b[0mread_csv\u001b[0m\u001b[0;34m(\u001b[0m\u001b[0mio\u001b[0m\u001b[0;34m.\u001b[0m\u001b[0mBytesIO\u001b[0m\u001b[0;34m(\u001b[0m\u001b[0muploaded\u001b[0m\u001b[0;34m[\u001b[0m\u001b[0;34m'cll_dataset.csv'\u001b[0m\u001b[0;34m]\u001b[0m\u001b[0;34m)\u001b[0m\u001b[0;34m)\u001b[0m\u001b[0;34m\u001b[0m\u001b[0;34m\u001b[0m\u001b[0m\n\u001b[0m",
            "\u001b[0;31mKeyError\u001b[0m: 'cll_dataset.csv'"
          ]
        }
      ]
    },
    {
      "cell_type": "code",
      "metadata": {
        "colab": {
          "base_uri": "https://localhost:8080/",
          "height": 224
        },
        "id": "WvQGOT3PhLS7",
        "outputId": "0b255316-0da2-4639-af2d-76562ddafedd"
      },
      "source": [
        "# a row is a sample = a patient\n",
        "# column 'Treat6m' recurrence of the disease, 1 if true, 0 if false\n",
        "# other columns are features = rate of several types of cells and molecules in the patient\n",
        "cll_dataset.head()"
      ],
      "execution_count": null,
      "outputs": [
        {
          "output_type": "execute_result",
          "data": {
            "text/html": [
              "<div>\n",
              "<style scoped>\n",
              "    .dataframe tbody tr th:only-of-type {\n",
              "        vertical-align: middle;\n",
              "    }\n",
              "\n",
              "    .dataframe tbody tr th {\n",
              "        vertical-align: top;\n",
              "    }\n",
              "\n",
              "    .dataframe thead th {\n",
              "        text-align: right;\n",
              "    }\n",
              "</style>\n",
              "<table border=\"1\" class=\"dataframe\">\n",
              "  <thead>\n",
              "    <tr style=\"text-align: right;\">\n",
              "      <th></th>\n",
              "      <th>Treat6m</th>\n",
              "      <th>Naive</th>\n",
              "      <th>EMRA</th>\n",
              "      <th>CM</th>\n",
              "      <th>EM</th>\n",
              "      <th>CD11a</th>\n",
              "      <th>CXCR3</th>\n",
              "      <th>CCR5</th>\n",
              "      <th>CXCR4</th>\n",
              "      <th>CXCR5</th>\n",
              "      <th>B7-H3</th>\n",
              "      <th>BTLA</th>\n",
              "      <th>PD1</th>\n",
              "      <th>LAG-3</th>\n",
              "      <th>HLA2</th>\n",
              "      <th>CD57</th>\n",
              "      <th>CD137</th>\n",
              "      <th>CD25</th>\n",
              "      <th>CD69</th>\n",
              "      <th>PERFORIN</th>\n",
              "      <th>GzB</th>\n",
              "      <th>GzA</th>\n",
              "      <th>CD127</th>\n",
              "      <th>CD58</th>\n",
              "      <th>GAL-3</th>\n",
              "      <th>CD5</th>\n",
              "      <th>ICAM-1</th>\n",
              "      <th>CD38</th>\n",
              "      <th>CCR4</th>\n",
              "      <th>CTLA-4</th>\n",
              "    </tr>\n",
              "  </thead>\n",
              "  <tbody>\n",
              "    <tr>\n",
              "      <th>0</th>\n",
              "      <td>1</td>\n",
              "      <td>0.0304</td>\n",
              "      <td>0.260</td>\n",
              "      <td>0.0150</td>\n",
              "      <td>0.2580</td>\n",
              "      <td>0.9346</td>\n",
              "      <td>0.775552</td>\n",
              "      <td>0.070052</td>\n",
              "      <td>0.339160</td>\n",
              "      <td>0.546893</td>\n",
              "      <td>0.656232</td>\n",
              "      <td>0.982216</td>\n",
              "      <td>0.256908</td>\n",
              "      <td>0.084362</td>\n",
              "      <td>0.821763</td>\n",
              "      <td>0.253181</td>\n",
              "      <td>0.060772</td>\n",
              "      <td>0.093901</td>\n",
              "      <td>0.252523</td>\n",
              "      <td>0.880222</td>\n",
              "      <td>0.781068</td>\n",
              "      <td>0.901904</td>\n",
              "      <td>0.200926</td>\n",
              "      <td>0.476314</td>\n",
              "      <td>0.818068</td>\n",
              "      <td>0.946954</td>\n",
              "      <td>0.990000</td>\n",
              "      <td>0.262730</td>\n",
              "      <td>0.270001</td>\n",
              "      <td>0.163433</td>\n",
              "    </tr>\n",
              "    <tr>\n",
              "      <th>1</th>\n",
              "      <td>0</td>\n",
              "      <td>0.1560</td>\n",
              "      <td>0.269</td>\n",
              "      <td>0.0387</td>\n",
              "      <td>0.0832</td>\n",
              "      <td>0.7110</td>\n",
              "      <td>0.812970</td>\n",
              "      <td>0.273710</td>\n",
              "      <td>0.375861</td>\n",
              "      <td>0.361873</td>\n",
              "      <td>0.135045</td>\n",
              "      <td>0.705116</td>\n",
              "      <td>0.652587</td>\n",
              "      <td>0.051744</td>\n",
              "      <td>0.163325</td>\n",
              "      <td>0.222673</td>\n",
              "      <td>0.036842</td>\n",
              "      <td>0.104232</td>\n",
              "      <td>0.142495</td>\n",
              "      <td>0.700707</td>\n",
              "      <td>0.425790</td>\n",
              "      <td>0.544353</td>\n",
              "      <td>0.053836</td>\n",
              "      <td>0.580217</td>\n",
              "      <td>0.469866</td>\n",
              "      <td>0.998994</td>\n",
              "      <td>0.997190</td>\n",
              "      <td>0.145660</td>\n",
              "      <td>0.321924</td>\n",
              "      <td>0.041356</td>\n",
              "    </tr>\n",
              "    <tr>\n",
              "      <th>2</th>\n",
              "      <td>1</td>\n",
              "      <td>0.0646</td>\n",
              "      <td>0.211</td>\n",
              "      <td>0.0363</td>\n",
              "      <td>0.2940</td>\n",
              "      <td>0.8970</td>\n",
              "      <td>0.539334</td>\n",
              "      <td>0.070597</td>\n",
              "      <td>0.162852</td>\n",
              "      <td>0.195341</td>\n",
              "      <td>0.349124</td>\n",
              "      <td>0.547168</td>\n",
              "      <td>0.602791</td>\n",
              "      <td>0.133252</td>\n",
              "      <td>0.863618</td>\n",
              "      <td>0.475020</td>\n",
              "      <td>0.466411</td>\n",
              "      <td>0.070974</td>\n",
              "      <td>0.189118</td>\n",
              "      <td>0.876636</td>\n",
              "      <td>0.780501</td>\n",
              "      <td>0.932139</td>\n",
              "      <td>0.321604</td>\n",
              "      <td>0.484588</td>\n",
              "      <td>0.762041</td>\n",
              "      <td>0.993183</td>\n",
              "      <td>0.997586</td>\n",
              "      <td>0.385564</td>\n",
              "      <td>0.249591</td>\n",
              "      <td>0.062653</td>\n",
              "    </tr>\n",
              "    <tr>\n",
              "      <th>3</th>\n",
              "      <td>0</td>\n",
              "      <td>0.0283</td>\n",
              "      <td>0.240</td>\n",
              "      <td>0.1180</td>\n",
              "      <td>0.1300</td>\n",
              "      <td>0.9861</td>\n",
              "      <td>0.857143</td>\n",
              "      <td>0.169069</td>\n",
              "      <td>0.199353</td>\n",
              "      <td>0.307644</td>\n",
              "      <td>0.613821</td>\n",
              "      <td>0.953178</td>\n",
              "      <td>0.738885</td>\n",
              "      <td>0.173426</td>\n",
              "      <td>0.867584</td>\n",
              "      <td>0.358332</td>\n",
              "      <td>0.073347</td>\n",
              "      <td>0.093947</td>\n",
              "      <td>0.256575</td>\n",
              "      <td>0.966187</td>\n",
              "      <td>0.864433</td>\n",
              "      <td>0.987819</td>\n",
              "      <td>0.382722</td>\n",
              "      <td>0.602925</td>\n",
              "      <td>0.645262</td>\n",
              "      <td>0.988252</td>\n",
              "      <td>0.999200</td>\n",
              "      <td>0.170346</td>\n",
              "      <td>0.400480</td>\n",
              "      <td>0.067871</td>\n",
              "    </tr>\n",
              "    <tr>\n",
              "      <th>4</th>\n",
              "      <td>0</td>\n",
              "      <td>0.0653</td>\n",
              "      <td>0.216</td>\n",
              "      <td>0.0949</td>\n",
              "      <td>0.2040</td>\n",
              "      <td>0.9209</td>\n",
              "      <td>0.847934</td>\n",
              "      <td>0.245060</td>\n",
              "      <td>0.182395</td>\n",
              "      <td>0.174046</td>\n",
              "      <td>0.276277</td>\n",
              "      <td>0.725921</td>\n",
              "      <td>0.490683</td>\n",
              "      <td>0.200272</td>\n",
              "      <td>0.182471</td>\n",
              "      <td>0.125216</td>\n",
              "      <td>0.099868</td>\n",
              "      <td>0.116054</td>\n",
              "      <td>0.106688</td>\n",
              "      <td>0.078826</td>\n",
              "      <td>0.609748</td>\n",
              "      <td>0.932809</td>\n",
              "      <td>0.373745</td>\n",
              "      <td>0.340299</td>\n",
              "      <td>0.102806</td>\n",
              "      <td>0.980924</td>\n",
              "      <td>0.996289</td>\n",
              "      <td>0.148594</td>\n",
              "      <td>0.156187</td>\n",
              "      <td>0.000000</td>\n",
              "    </tr>\n",
              "  </tbody>\n",
              "</table>\n",
              "</div>"
            ],
            "text/plain": [
              "   Treat6m   Naive   EMRA      CM  ...    ICAM-1      CD38      CCR4    CTLA-4\n",
              "0        1  0.0304  0.260  0.0150  ...  0.990000  0.262730  0.270001  0.163433\n",
              "1        0  0.1560  0.269  0.0387  ...  0.997190  0.145660  0.321924  0.041356\n",
              "2        1  0.0646  0.211  0.0363  ...  0.997586  0.385564  0.249591  0.062653\n",
              "3        0  0.0283  0.240  0.1180  ...  0.999200  0.170346  0.400480  0.067871\n",
              "4        0  0.0653  0.216  0.0949  ...  0.996289  0.148594  0.156187  0.000000\n",
              "\n",
              "[5 rows x 30 columns]"
            ]
          },
          "metadata": {
            "tags": []
          },
          "execution_count": 4
        }
      ]
    },
    {
      "cell_type": "code",
      "metadata": {
        "colab": {
          "base_uri": "https://localhost:8080/"
        },
        "id": "aZqHmBC4hc6x",
        "outputId": "e3a46216-fdcd-4ea4-fadc-b9035f9b0a3f"
      },
      "source": [
        "# -----------------------------------------------------------------------------------------\n",
        "# 1- create X the features, Y the predictions\n",
        "X = cll_dataset.drop('Treat6m', axis=1)\n",
        "print(X.head())\n",
        "Y = pd.DataFrame(cll_dataset['Treat6m'])\n",
        "print(Y.head())"
      ],
      "execution_count": null,
      "outputs": [
        {
          "output_type": "stream",
          "text": [
            "    Naive   EMRA      CM      EM  ...    ICAM-1      CD38      CCR4    CTLA-4\n",
            "0  0.0304  0.260  0.0150  0.2580  ...  0.990000  0.262730  0.270001  0.163433\n",
            "1  0.1560  0.269  0.0387  0.0832  ...  0.997190  0.145660  0.321924  0.041356\n",
            "2  0.0646  0.211  0.0363  0.2940  ...  0.997586  0.385564  0.249591  0.062653\n",
            "3  0.0283  0.240  0.1180  0.1300  ...  0.999200  0.170346  0.400480  0.067871\n",
            "4  0.0653  0.216  0.0949  0.2040  ...  0.996289  0.148594  0.156187  0.000000\n",
            "\n",
            "[5 rows x 29 columns]\n",
            "   Treat6m\n",
            "0        1\n",
            "1        0\n",
            "2        1\n",
            "3        0\n",
            "4        0\n"
          ],
          "name": "stdout"
        }
      ]
    },
    {
      "cell_type": "code",
      "metadata": {
        "id": "M9jEZn9plaiY"
      },
      "source": [
        "# 2- Create a ft_rf function that fit a random forest on X train and Y train\n",
        "# And return the random forest score on the test sample\n",
        "\n",
        "def fit_rf(dataset_X, dataset_Y, depth):\n",
        "  #First we split the sample into a train sample and a test sample:\n",
        "  X_train, X_test, Y_train, Y_test = train_test_split(X, Y, test_size=0.33)\n",
        "  \n",
        "  #We define the model and its parameters\n",
        "  clf = RandomForestClassifier(max_depth = depth)\n",
        "\n",
        "  #Model fitting\n",
        "  clf.fit(X_train, Y_train.values.ravel())\n",
        "\n",
        "  # I chose to return the accuracy score, as it is a common metric to use\n",
        "  return accuracy_score(Y_test, clf.predict(X_test))\n"
      ],
      "execution_count": null,
      "outputs": []
    },
    {
      "cell_type": "code",
      "metadata": {
        "colab": {
          "base_uri": "https://localhost:8080/"
        },
        "id": "39mv-zbkme6I",
        "outputId": "a1413059-1f49-4e1e-fbd0-19941dc5c2f6"
      },
      "source": [
        "#Test function\n",
        "fit_rf(X, Y, 2)"
      ],
      "execution_count": null,
      "outputs": [
        {
          "output_type": "execute_result",
          "data": {
            "text/plain": [
              "0.6363636363636364"
            ]
          },
          "metadata": {
            "tags": []
          },
          "execution_count": 7
        }
      ]
    },
    {
      "cell_type": "code",
      "metadata": {
        "id": "5g0m6j8qoMzF"
      },
      "source": [
        "# 3- create a function 'repeat_experiment' that will re-shuffle the dataset and fit a classifier a hundred times\n",
        "# store the score at each iteration\n",
        "# return the average score on the hundred iterations\n",
        "\n",
        "def repeat_experiment(dataset_X, dataset_Y, depth):\n",
        "  \n",
        "  acc_score = [0] * 100\n",
        "\n",
        "  for i in range(100):\n",
        "    acc_score[i] = fit_rf(dataset_X, dataset_Y, depth)\n",
        "\n",
        "  return sum(acc_score)/100"
      ],
      "execution_count": null,
      "outputs": []
    },
    {
      "cell_type": "code",
      "metadata": {
        "colab": {
          "base_uri": "https://localhost:8080/"
        },
        "id": "AjhiEZj9pNlI",
        "outputId": "53e97dcf-ca6a-42e8-f1d0-a335b121330f"
      },
      "source": [
        "# 4- Is it good ? (check score averaged over a hundred experiments)\n",
        "repeat_experiment(X, Y, 2)\n",
        "\n",
        "#At first glange, a 0.74-0.76 accuracy seems alright for a first try with no model parameter tuning"
      ],
      "execution_count": null,
      "outputs": [
        {
          "output_type": "execute_result",
          "data": {
            "text/plain": [
              "0.7463636363636365"
            ]
          },
          "metadata": {
            "tags": []
          },
          "execution_count": 9
        }
      ]
    },
    {
      "cell_type": "code",
      "metadata": {
        "colab": {
          "base_uri": "https://localhost:8080/"
        },
        "id": "nCfXnesGqBvj",
        "outputId": "cf75d931-3cbf-4201-825d-d78e66b9fc3a"
      },
      "source": [
        "# 5- Is it actually good ? \n",
        "#try to predict only vectors with 'Treat6m' = 1\n",
        "#repeat_experiment(X[Y[\"Treat6m\"] == 1], Y[Y[\"Treat6m\"] == 1], 2)\n",
        "\n",
        "X_train, X_test, Y_train, Y_test = train_test_split(X, Y, test_size=0.33)\n",
        "  \n",
        "#We define the model and its parameters\n",
        "clf = RandomForestClassifier(max_depth = 2)\n",
        "\n",
        "#Model fitting\n",
        "clf.fit(X_train, Y_train.values.ravel())\n",
        "\n",
        "#Prediction\n",
        "print(clf.predict(X_test[Y_test[\"Treat6m\"] == 1]))\n",
        "\n",
        "#Even if you repeat the experiment several times,\n",
        "#The random forest trained on the whole sample will always predict 0 for \n",
        "#the class 'Treat6m' = 1\n",
        "#Hence, even though the accuracy is good, the model is not doing \n",
        "#good predictions. \n",
        "\n",
        "# You can compute per-class precision, recall, f-scores...\n",
        "#precision = true positive/ (True positive + False positive)\n",
        "print(precision_score(Y_test, clf.predict(X_test)))\n",
        "#When repeated multiple time, the precision is always equal to 0, meaning we never \n",
        "#have a true positive. This seems logical with the fact that the model always\n",
        "#wrongly predicts 0. \n",
        "\n",
        "#Recall \n",
        "#Recall = TruePositives / (TruePositives + FalseNegatives)\n",
        "print(recall_score(Y_test, clf.predict(X_test)))\n",
        "#Same observation: always equal to 0 \n",
        "\n",
        "#f score\n",
        "#f score = (2 * Precision * Recall) / (Precision + Recall)\n",
        "#We cannot even compute this metrics as both precision and recall are\n",
        "#equal to 0. \n"
      ],
      "execution_count": null,
      "outputs": [
        {
          "output_type": "stream",
          "text": [
            "[0 0]\n",
            "0.0\n",
            "0.0\n"
          ],
          "name": "stdout"
        },
        {
          "output_type": "stream",
          "text": [
            "/usr/local/lib/python3.7/dist-packages/sklearn/metrics/_classification.py:1272: UndefinedMetricWarning: Precision is ill-defined and being set to 0.0 due to no predicted samples. Use `zero_division` parameter to control this behavior.\n",
            "  _warn_prf(average, modifier, msg_start, len(result))\n"
          ],
          "name": "stderr"
        }
      ]
    },
    {
      "cell_type": "code",
      "metadata": {
        "colab": {
          "base_uri": "https://localhost:8080/",
          "height": 473
        },
        "id": "StX-p2AJPVDi",
        "outputId": "08776937-89a4-4013-f694-ec3fceb3197b"
      },
      "source": [
        "# 5- Why is it actually pretty bad ?\n",
        "print(Y.value_counts())\n",
        "fig, ax = plt.subplots(figsize = (10,6))\n",
        "bars1 = ax.bar([\"False\",\"True\"], Y.value_counts()/len(Y), color = ['#63E1C4', '#C1E0F6'])\n",
        "ax.set_title(\"Recurrence of the disease : frequency count\")\n",
        "\n",
        "\n",
        "#As one can see in the following graph, the dataset is imbalanced.\n",
        "#Our target variable, which is when the disease reoccurs is only observed \n",
        "#for 22.6% of the patients.\n",
        "#This means that our average accuracy score of around 77% is not good. \n",
        "#Indeed, as our target variable is 'rare' in occurence, it is simple for the model\n",
        "#to predict 0 for all observations and get a good accuracy score.\n",
        "# This comes from the formula of the accuracy score:\n",
        "# (True positive + True negative)/all sample\n",
        "\n",
        "#In our case, if our model only predicted 0 for every 31 observations,\n",
        "# Our accuracy score would be: \n",
        "#(24 + 0)/31 = around 0.77\n",
        "# Which is very close to our average accuracy score on 100 repetitions ! \n",
        "#Our accuracy score is just the frequency of the non-target variable.\n",
        "#As our goal is to predict the target variable and our \n",
        "#model mostly predict 0, this is NOT a good method."
      ],
      "execution_count": null,
      "outputs": [
        {
          "output_type": "stream",
          "text": [
            "Treat6m\n",
            "0          24\n",
            "1           7\n",
            "dtype: int64\n"
          ],
          "name": "stdout"
        },
        {
          "output_type": "execute_result",
          "data": {
            "text/plain": [
              "Text(0.5, 1.0, 'Recurrence of the disease : frequency count')"
            ]
          },
          "metadata": {
            "tags": []
          },
          "execution_count": 19
        },
        {
          "output_type": "display_data",
          "data": {
            "image/png": "[encoded data removed]",
            "text/plain": [
              "<Figure size 720x432 with 1 Axes>"
            ]
          },
          "metadata": {
            "tags": [],
            "needs_background": "light"
          }
        }
      ]
    },
    {
      "cell_type": "code",
      "metadata": {
        "id": "L9NBIplvyoOa",
        "colab": {
          "resources": {
            "http://localhost:8080/nbextensions/google.colab/files.js": {
              "data": "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",
              "ok": true,
              "headers": [
                [
                  "content-type",
                  "application/javascript"
                ]
              ],
              "status": 200,
              "status_text": ""
            }
          },
          "base_uri": "https://localhost:8080/",
          "height": 72
        },
        "outputId": "14736e0a-a792-4866-b601-c1f31cfcc14a"
      },
      "source": [
        "# Amazon has recorded some data from its job interviews.\n",
        "# After compiling all the data,\n",
        "# they came with a pair of features called \"skills\" and \"human fit\"\n",
        "# that are supposed to be sufficient to predict whether a candidate is worth interviewing.\n",
        "\n",
        "# 0- load the data\n",
        "# 0- read the file\n",
        "\n",
        "uploaded = files.upload()\n",
        "#genderdatafile = pd.read_csv(io.BytesIO(uploaded['gender_biased.csv'])).drop('Unnamed: 0', axis=1)\n",
        "genderdatafile=pd.read_csv(\"gender_biased.csv\")"
      ],
      "execution_count": null,
      "outputs": [
        {
          "output_type": "display_data",
          "data": {
            "text/html": [
              "\n",
              "     <input type=\"file\" id=\"files-1146d055-4b00-4e46-8673-b2a3f814b4d9\" name=\"files[]\" multiple disabled\n",
              "        style=\"border:none\" />\n",
              "     <output id=\"result-1146d055-4b00-4e46-8673-b2a3f814b4d9\">\n",
              "      Upload widget is only available when the cell has been executed in the\n",
              "      current browser session. Please rerun this cell to enable.\n",
              "      </output>\n",
              "      <script src=\"/nbextensions/google.colab/files.js\"></script> "
            ],
            "text/plain": [
              "<IPython.core.display.HTML object>"
            ]
          },
          "metadata": {
            "tags": []
          }
        },
        {
          "output_type": "stream",
          "text": [
            "Saving gender_biased.csv to gender_biased.csv\n"
          ],
          "name": "stdout"
        }
      ]
    },
    {
      "cell_type": "code",
      "metadata": {
        "colab": {
          "base_uri": "https://localhost:8080/",
          "height": 204
        },
        "id": "7uIKVux7ypFf",
        "outputId": "03c33e00-c1d8-4424-9290-b5fd92e79db0"
      },
      "source": [
        "# 1- Which feature should not be taken into account to discriminate candidates ?\n",
        "# we call this feature \"sensitive\"\n",
        "genderdatafile.head()\n",
        "\n",
        "#We do not want to use the \"gender\" of the candidate, as it is illegal to \n",
        "#select individuals depending on their gender. "
      ],
      "execution_count": null,
      "outputs": [
        {
          "output_type": "execute_result",
          "data": {
            "text/html": [
              "<div>\n",
              "<style scoped>\n",
              "    .dataframe tbody tr th:only-of-type {\n",
              "        vertical-align: middle;\n",
              "    }\n",
              "\n",
              "    .dataframe tbody tr th {\n",
              "        vertical-align: top;\n",
              "    }\n",
              "\n",
              "    .dataframe thead th {\n",
              "        text-align: right;\n",
              "    }\n",
              "</style>\n",
              "<table border=\"1\" class=\"dataframe\">\n",
              "  <thead>\n",
              "    <tr style=\"text-align: right;\">\n",
              "      <th></th>\n",
              "      <th>Unnamed: 0</th>\n",
              "      <th>skills</th>\n",
              "      <th>human_fit</th>\n",
              "      <th>gender</th>\n",
              "      <th>selected</th>\n",
              "    </tr>\n",
              "  </thead>\n",
              "  <tbody>\n",
              "    <tr>\n",
              "      <th>0</th>\n",
              "      <td>0</td>\n",
              "      <td>-6.160503</td>\n",
              "      <td>-3.266742</td>\n",
              "      <td>1.0</td>\n",
              "      <td>0</td>\n",
              "    </tr>\n",
              "    <tr>\n",
              "      <th>1</th>\n",
              "      <td>1</td>\n",
              "      <td>1.951289</td>\n",
              "      <td>-4.117315</td>\n",
              "      <td>0.0</td>\n",
              "      <td>0</td>\n",
              "    </tr>\n",
              "    <tr>\n",
              "      <th>2</th>\n",
              "      <td>2</td>\n",
              "      <td>2.255315</td>\n",
              "      <td>2.801389</td>\n",
              "      <td>1.0</td>\n",
              "      <td>1</td>\n",
              "    </tr>\n",
              "    <tr>\n",
              "      <th>3</th>\n",
              "      <td>3</td>\n",
              "      <td>-7.440054</td>\n",
              "      <td>-3.465629</td>\n",
              "      <td>0.0</td>\n",
              "      <td>0</td>\n",
              "    </tr>\n",
              "    <tr>\n",
              "      <th>4</th>\n",
              "      <td>4</td>\n",
              "      <td>0.338412</td>\n",
              "      <td>-0.334471</td>\n",
              "      <td>0.0</td>\n",
              "      <td>1</td>\n",
              "    </tr>\n",
              "  </tbody>\n",
              "</table>\n",
              "</div>"
            ],
            "text/plain": [
              "   Unnamed: 0    skills  human_fit  gender  selected\n",
              "0           0 -6.160503  -3.266742     1.0         0\n",
              "1           1  1.951289  -4.117315     0.0         0\n",
              "2           2  2.255315   2.801389     1.0         1\n",
              "3           3 -7.440054  -3.465629     0.0         0\n",
              "4           4  0.338412  -0.334471     0.0         1"
            ]
          },
          "metadata": {
            "tags": []
          },
          "execution_count": 58
        }
      ]
    },
    {
      "cell_type": "code",
      "metadata": {
        "colab": {
          "base_uri": "https://localhost:8080/",
          "height": 407
        },
        "id": "2xH6H4VlxGeW",
        "outputId": "152db567-d5d6-4f0e-d400-7221db4e90c9"
      },
      "source": [
        "#Visualisation of the gender variable\n",
        "fig, ax = plt.subplots(figsize = (10,6))\n",
        "bars1 = ax.bar([\"0\",\"1\"], genderdatafile[\"gender\"].value_counts(), color = ['#73D1C0', 'lightsalmon'])\n",
        "ax.set_title(\"Percentage of men and women\")\n"
      ],
      "execution_count": null,
      "outputs": [
        {
          "output_type": "execute_result",
          "data": {
            "text/plain": [
              "Text(0.5, 1.0, 'Percentage of men and women')"
            ]
          },
          "metadata": {
            "tags": []
          },
          "execution_count": 14
        },
        {
          "output_type": "display_data",
          "data": {
            "image/png": "[encoded data removed]",
            "text/plain": [
              "<Figure size 720x432 with 1 Axes>"
            ]
          },
          "metadata": {
            "tags": [],
            "needs_background": "light"
          }
        }
      ]
    },
    {
      "cell_type": "code",
      "metadata": {
        "colab": {
          "base_uri": "https://localhost:8080/",
          "height": 458
        },
        "id": "G5zlVB0wzURO",
        "outputId": "cbcd5574-981f-406e-9576-f8fb2ae86e42"
      },
      "source": [
        "# 2- Fit classifiers of your choice on the given dataset (output is \"selected\" column)\n",
        "# do not use the \"sensitive\" feature !!!\n",
        "\n",
        "#Separate into X and Y samples:\n",
        "X_f = genderdatafile.drop(['selected'], axis=1)\n",
        "Y_r = pd.DataFrame(genderdatafile['selected'])\n",
        "\n",
        "#Split into train and test samples\n",
        "X_train, X_test, Y_train, Y_test = train_test_split(X_f.drop('gender',axis = 1), Y_r, test_size=0.33)\n",
        "\n",
        "#Simple Random Forest Classifier\n",
        "random_f = RandomForestClassifier(max_depth = 2)\n",
        "\n",
        "#Model fitting\n",
        "random_f.fit(X_train, Y_train.values.ravel())\n",
        "\n",
        "\n",
        "fig1,ax1=plt.subplots(figsize = (10,6))\n",
        "bars1 = ax1.bar([\"Yes\",\"No\"], Y_r.value_counts(), color = ['#63E1C4', '#C1E0F6'])\n",
        "ax1.set_title('Selected : frequency count')\n",
        "print(Y_r.value_counts())\n",
        "\n",
        "\n",
        "\n",
        "#The dataset is perfectly balanced, with 50% selected and 50% not selected.\n",
        "#Then it is understandable we do not have the same issue as before, as the \n",
        "#disease dataset was very unbalanced. \n"
      ],
      "execution_count": null,
      "outputs": [
        {
          "output_type": "stream",
          "text": [
            "selected\n",
            "1           1000\n",
            "0           1000\n",
            "dtype: int64\n"
          ],
          "name": "stdout"
        },
        {
          "output_type": "display_data",
          "data": {
            "image/png": "[encoded data removed]",
            "text/plain": [
              "<Figure size 720x432 with 1 Axes>"
            ]
          },
          "metadata": {
            "tags": [],
            "needs_background": "light"
          }
        }
      ]
    },
    {
      "cell_type": "code",
      "metadata": {
        "colab": {
          "base_uri": "https://localhost:8080/",
          "height": 392
        },
        "id": "Ikc-up8B0Iyd",
        "outputId": "047f3698-b2db-4333-d508-5e5cb86c2774"
      },
      "source": [
        "# 3- Evaluate the classifiers\n",
        "\n",
        "#On the test set:\n",
        "print(\"accuracy\",accuracy_score(Y_test, random_f.predict(X_test)))\n",
        "print(\"precision\",precision_score(Y_test, random_f.predict(X_test)))\n",
        "print(\"recall\",recall_score(Y_test, random_f.predict(X_test)))\n",
        "print(\"f-score\",f1_score(Y_test, random_f.predict(X_test)))\n",
        "\n",
        "#As the metrics are quite stable, it is possible that we do not have the issue of the previous exercise.\n",
        "\n",
        "#The confusion Matrix\n",
        "\n",
        "plt.clf()\n",
        "plt.imshow(confusion_matrix(Y_test, random_f.predict(X_test)), interpolation='nearest', cmap=plt.cm.Wistia)\n",
        "classNames = ['Negative','Positive']\n",
        "tick_marks = np.arange(len(classNames))\n",
        "plt.xticks(tick_marks, classNames, rotation=45)\n",
        "plt.yticks(tick_marks, classNames)\n",
        "s = [['TN','FP'], ['FN', 'TP']]\n",
        "for i in range(2):\n",
        "    for j in range(2):\n",
        "        plt.text(j,i, str(s[i][j])+\" = \"+str(confusion_matrix(Y_test, random_f.predict(X_test))[i][j]))\n",
        "\n",
        "plt.title('Confusion Matrix ')\n",
        "plt.ylabel('True label')\n",
        "plt.xlabel('Predicted label')\n",
        "\n",
        "plt.show()"
      ],
      "execution_count": null,
      "outputs": [
        {
          "output_type": "stream",
          "text": [
            "accuracy 0.85\n",
            "precision 0.8440366972477065\n",
            "recall 0.8518518518518519\n",
            "f-score 0.847926267281106\n"
          ],
          "name": "stdout"
        },
        {
          "output_type": "display_data",
          "data": {
            "image/png": "[encoded data removed]",
            "text/plain": [
              "<Figure size 432x288 with 1 Axes>"
            ]
          },
          "metadata": {
            "tags": [],
            "needs_background": "light"
          }
        }
      ]
    },
    {
      "cell_type": "code",
      "metadata": {
        "colab": {
          "base_uri": "https://localhost:8080/",
          "height": 391
        },
        "id": "X1QInxYu6TZW",
        "outputId": "00aa54b4-6425-409e-914a-ad3ab3f57236"
      },
      "source": [
        "#To be sure, to not have the problem of unmbalanced data, let's have a look at the sample:\n",
        "predicted_selection=pd.DataFrame(random_f.predict(X_test))\n",
        "fig2, ax2 = plt.subplots(figsize = (10,6))\n",
        "bars1 = ax2.bar([\"Yes\",\"No\"],predicted_selection[0].value_counts(), color = ['#63E1C4', '#C1E0F6'])\n",
        "ax1.set_title('Predicted Selected : frequency count')"
      ],
      "execution_count": null,
      "outputs": [
        {
          "output_type": "execute_result",
          "data": {
            "text/plain": [
              "Text(0.5, 1.0, 'Predicted Selected : frequency count')"
            ]
          },
          "metadata": {
            "tags": []
          },
          "execution_count": 62
        },
        {
          "output_type": "display_data",
          "data": {
            "image/png": "[encoded data removed]",
            "text/plain": [
              "<Figure size 720x432 with 1 Axes>"
            ]
          },
          "metadata": {
            "tags": [],
            "needs_background": "light"
          }
        }
      ]
    },
    {
      "cell_type": "code",
      "metadata": {
        "colab": {
          "base_uri": "https://localhost:8080/",
          "height": 1000
        },
        "id": "Ak-tU3hL1QzH",
        "outputId": "6e7b298e-0a29-44f8-d543-f07e0bb9049a"
      },
      "source": [
        "# 4- What is the impact of automatic decision on the \"protected group\" (the one with sensitive=1)?\n",
        "\n",
        "X_train, X_test, Y_train, Y_test = train_test_split(X_f, Y_r, test_size=0.33)\n",
        "Women_pred = pd.DataFrame(random_f.predict(X_test[X_test[\"gender\"] == 1].drop(\"gender\",axis = 1)))\n",
        "\n",
        "print(Women_pred.value_counts())\n",
        "print(\"accuracy for women\",accuracy_score(Y_test[X_test[\"gender\"] == 1], Women_pred))\n",
        "print(\"precision for women\",precision_score(Y_test[X_test[\"gender\"] == 1], Women_pred))\n",
        "print(\"recall for women\",recall_score(Y_test[X_test[\"gender\"] == 1], Women_pred))\n",
        "print(\"f-score for women\",f1_score(Y_test[X_test[\"gender\"] == 1], Women_pred))\n",
        "print(confusion_matrix(Y_test[X_test[\"gender\"] == 1], Women_pred))\n",
        "confusion_matrix(Y_test[X_test[\"gender\"] == 1], Women_pred)\n",
        "plt.clf()\n",
        "plt.imshow(confusion_matrix(Y_test[X_test[\"gender\"] == 1], Women_pred), interpolation='nearest', cmap=plt.cm.Wistia)\n",
        "classNames = ['Negative','Positive']\n",
        "tick_marks = np.arange(len(classNames))\n",
        "plt.xticks(tick_marks, classNames, rotation=45)\n",
        "plt.yticks(tick_marks, classNames)\n",
        "s = [['TN','FP'], ['FN', 'TP']]\n",
        "for i in range(2):\n",
        "    for j in range(2):\n",
        "        plt.text(j,i, str(s[i][j])+\" = \"+str(confusion_matrix(Y_test[X_test[\"gender\"] == 1], Women_pred)[i][j]))\n",
        "\n",
        "plt.title('Confusion Matrix ')\n",
        "plt.ylabel('True label')\n",
        "plt.xlabel('Predicted label')\n",
        "\n",
        "plt.show()\n",
        "#Pretty good prediction :) \n",
        "\n",
        "#We now check the fairness\n",
        "pred = pd.DataFrame(random_f.predict(X_test.drop(\"gender\",axis = 1)))\n",
        "Pred_pos = X_test.iloc[np.where(pred==1)[0]]\n",
        "Pred_neg = X_test.iloc[np.where(pred==0)[0]]\n",
        "\n",
        "\n",
        "labels = ['Yes', 'No']\n",
        "men_count = [np.sum(Pred_pos['gender'] == 0), np.sum(Pred_neg['gender'] == 0)]\n",
        "women_count = [np.sum(Pred_pos['gender'] == 1), np.sum(Pred_neg['gender'] == 1)]\n",
        "width = 0.35       # the width of the bars: can also be len(x) sequence\n",
        "\n",
        "fig, ax = plt.subplots()\n",
        "\n",
        "ax.bar(labels, men_count, width, label='Men')\n",
        "ax.bar(labels, women_count, width, bottom=men_count, label='Women')\n",
        "\n",
        "ax.set_ylabel('Number of observations')\n",
        "ax.set_title('Prediction (yes or No) by gender')\n",
        "ax.legend()\n",
        "\n",
        "plt.show()\n",
        "\n",
        "#Predictions between both gender are very unbalanced: Women are more often\n",
        "#predicted as \"Yes\". This is wrong as we now that our train sample is actually \n",
        "#fair between men and women:\n",
        "fig, ax = plt.subplots()\n",
        "Pred_pos = X_train.iloc[np.where(Y_test[\"selected\"] == 1)]\n",
        "Pred_neg = X_train.iloc[np.where(Y_test[\"selected\"] == 0)]\n",
        "men_count = [Pred_pos.shape[0]-np.sum(Pred_pos.gender), Pred_pos.shape[0]-np.sum(Pred_neg.gender)]\n",
        "women_count = [np.sum(Pred_pos.gender), np.sum(Pred_neg.gender)]\n",
        "print(men_count)\n",
        "women_count\n",
        "ax.bar(labels, men_count, width, label='Men')\n",
        "ax.bar(labels, women_count, width, bottom=men_count, label='Women')\n",
        "\n",
        "ax.set_ylabel('Number of observations')\n",
        "ax.set_title('actual yes or no by gender')\n",
        "ax.legend()\n"
      ],
      "execution_count": null,
      "outputs": [
        {
          "output_type": "stream",
          "text": [
            "1    228\n",
            "0     81\n",
            "dtype: int64\n",
            "accuracy for women 0.8802588996763754\n",
            "precision for women 0.8991228070175439\n",
            "recall for women 0.9360730593607306\n",
            "f-score for women 0.9172259507829977\n",
            "[[ 67  23]\n",
            " [ 14 205]]\n"
          ],
          "name": "stdout"
        },
        {
          "output_type": "display_data",
          "data": {
            "image/png": "[encoded data removed]",
            "text/plain": [
              "<Figure size 432x288 with 1 Axes>"
            ]
          },
          "metadata": {
            "tags": [],
            "needs_background": "light"
          }
        },
        {
          "output_type": "display_data",
          "data": {
            "image/png": "[encoded data removed]",
            "text/plain": [
              "<Figure size 432x288 with 1 Axes>"
            ]
          },
          "metadata": {
            "tags": [],
            "needs_background": "light"
          }
        },
        {
          "output_type": "stream",
          "text": [
            "[182.0, 194.0]\n"
          ],
          "name": "stdout"
        },
        {
          "output_type": "execute_result",
          "data": {
            "text/plain": [
              "<matplotlib.legend.Legend at 0x7f4cef2bf1d0>"
            ]
          },
          "metadata": {
            "tags": []
          },
          "execution_count": 95
        },
        {
          "output_type": "display_data",
          "data": {
            "image/png": "[encoded data removed]",
            "text/plain": [
              "<Figure size 432x288 with 1 Axes>"
            ]
          },
          "metadata": {
            "tags": [],
            "needs_background": "light"
          }
        }
      ]
    },
    {
      "cell_type": "code",
      "metadata": {
        "id": "VenJ1br94yJY",
        "colab": {
          "base_uri": "https://localhost:8080/"
        },
        "outputId": "08aea690-4067-474d-8db6-7bd3e75de51b"
      },
      "source": [
        "#What would have happened if the gender was taken into account ? \n",
        "#Model fitting with \"gender\" variable\n",
        "random_f.fit(X_train, Y_train.values.ravel())\n",
        "print(\"accuracy\",accuracy_score(Y_test, random_f.predict(X_test)))\n",
        "print(\"precision\",precision_score(Y_test, random_f.predict(X_test)))\n",
        "print(\"recall\",recall_score(Y_test, random_f.predict(X_test)))\n",
        "print(\"f-score\",f1_score(Y_test, random_f.predict(X_test)))\n",
        "Women_pred = pd.DataFrame(random_f.predict(X_test[X_test[\"gender\"] == 1]))\n",
        "print(Women_pred.value_counts())\n",
        "print(\"accuracy for women\",accuracy_score(Y_test[X_test[\"gender\"] == 1], Women_pred))\n",
        "print(\"precision for women\",precision_score(Y_test[X_test[\"gender\"] == 1], Women_pred))\n",
        "print(\"recall for women\",recall_score(Y_test[X_test[\"gender\"] == 1], Women_pred))\n",
        "print(\"f-score for women\",f1_score(Y_test[X_test[\"gender\"] == 1], Women_pred))\n",
        "print(confusion_matrix(Y_test[X_test[\"gender\"] == 1], Women_pred))\n",
        "\n",
        "#The quality of the prediction is actually less good, which is surprising.\n",
        "#Let's look at the fairness\n",
        "pred = pd.DataFrame(random_f.predict(X_test)\n",
        "Pred_pos = x_testt.iloc[np.where(pred==1)[0]]\n",
        "Pred_neg = x_testt.iloc[np.where(pred==0)[0]]\n",
        "\n",
        "\n",
        "labels = ['Yes', 'No']\n",
        "men_count = [np.sum(Pred_pos['gender'] == 0), np.sum(Pred_neg['gender'] == 0)]\n",
        "women_count = [np.sum(Pred_pos['gender'] == 1), np.sum(Pred_neg['gender'] == 1)]\n",
        "width = 0.35       # the width of the bars: can also be len(x) sequence\n",
        "\n",
        "fig, ax = plt.subplots()\n",
        "\n",
        "ax.bar(labels, men_count, width, label='Men')\n",
        "ax.bar(labels, women_count, width, bottom=men_count, label='Women')\n",
        "\n",
        "ax.set_ylabel('Number of observations')\n",
        "ax.set_title('Prediction (yes or No) by gender')\n",
        "ax.legend()\n",
        "\n",
        "plt.show()\n",
        "\n"
      ],
      "execution_count": null,
      "outputs": [
        {
          "output_type": "stream",
          "text": [
            "accuracy 0.853030303030303\n",
            "precision 0.8575949367088608\n",
            "recall 0.8390092879256966\n",
            "f-score 0.8482003129890454\n",
            "1    217\n",
            "0     79\n",
            "dtype: int64\n",
            "accuracy for women 0.8648648648648649\n",
            "precision for women 0.8571428571428571\n",
            "recall for women 0.9538461538461539\n",
            "f-score for women 0.9029126213592232\n",
            "[[ 70  31]\n",
            " [  9 186]]\n"
          ],
          "name": "stdout"
        }
      ]
    },
    {
      "cell_type": "code",
      "metadata": {
        "id": "m1U5UAbnZsHb",
        "colab": {
          "base_uri": "https://localhost:8080/"
        },
        "outputId": "aa86be85-f694-4e17-95a4-fd4383e23e06"
      },
      "source": [
        "# 5- In sklearn, you can put a weight on samples\n",
        "# Find a weighting strategy to compute a fair classification\n",
        "from sklearn.utils.class_weight import compute_sample_weight\n",
        "from sklearn.utils import class_weight\n",
        "# Features and output\n",
        "XX = genderdatafile.drop(['selected'], axis=1)\n",
        "yy = genderdatafile['selected'].to_numpy()\n",
        "\n",
        "#Split the dataset into train and test samples\n",
        "x_trainn, x_testt, y_trainn, y_testt = train_test_split(XX, yy,test_size=0.33) \n",
        "\n",
        "#Calculate the weights for each class\n",
        "weights = class_weight.compute_class_weight('balanced',np.unique(y_trainn), y_trainn)\n",
        "class_weights = {}\n",
        "for i in range(2):\n",
        "  class_weights[i] = weights[i]\n",
        "\n",
        "print(\"weights are:\",class_weights)\n",
        "# Classifier and fit the model\n",
        "Rfm = RandomForestClassifier(max_depth=2, class_weight=class_weights)\n",
        "Rfm.fit(x_trainn.drop('gender',axis = 1), y_trainn)"
      ],
      "execution_count": null,
      "outputs": [
        {
          "output_type": "stream",
          "text": [
            "weights are: {0: 0.9911242603550295, 1: 1.0090361445783131}\n"
          ],
          "name": "stdout"
        },
        {
          "output_type": "execute_result",
          "data": {
            "text/plain": [
              "RandomForestClassifier(bootstrap=True, ccp_alpha=0.0,\n",
              "                       class_weight={0: 0.9911242603550295,\n",
              "                                     1: 1.0090361445783131},\n",
              "                       criterion='gini', max_depth=2, max_features='auto',\n",
              "                       max_leaf_nodes=None, max_samples=None,\n",
              "                       min_impurity_decrease=0.0, min_impurity_split=None,\n",
              "                       min_samples_leaf=1, min_samples_split=2,\n",
              "                       min_weight_fraction_leaf=0.0, n_estimators=100,\n",
              "                       n_jobs=None, oob_score=False, random_state=None,\n",
              "                       verbose=0, warm_start=False)"
            ]
          },
          "metadata": {
            "tags": []
          },
          "execution_count": 28
        }
      ]
    },
    {
      "cell_type": "code",
      "metadata": {
        "id": "IVIFqzkERah2",
        "colab": {
          "base_uri": "https://localhost:8080/",
          "height": 1000
        },
        "outputId": "69268b03-f175-47f9-9979-d31a59dd2f33"
      },
      "source": [
        "# 6- Evaluate your classifier, check the trade-off between fairness and accuracy\n",
        "\n",
        "#On the test set:\n",
        "print(\"Accuracy\",accuracy_score(y_testt, Rfm.predict(x_testt.drop('gender',axis = 1))))\n",
        "print(\"Precision\",precision_score(y_testt, Rfm.predict(x_testt.drop('gender',axis = 1))))\n",
        "print(\"Recall\",recall_score(y_testt, Rfm.predict(x_testt.drop('gender',axis = 1))))\n",
        "print(\"F-score\",f1_score(y_testt, Rfm.predict(x_testt.drop('gender',axis = 1))))\n",
        "\n",
        "predicted_selection=pd.DataFrame(Rfm.predict(x_testt.drop('gender',axis = 1)))\n",
        "fig2, ax2 = plt.subplots(figsize = (10,6))\n",
        "bars1 = ax2.bar([\"Yes\",\"No\"],predicted_selection[0].value_counts(), color = ['#63E1C4', '#C1E0F6'])\n",
        "ax1.set_title('Predicted Selected : frequency count')\n",
        "# The accuracy is reasonnable, knowing that the sample is balanced\n",
        "\n",
        "#We now check the fairness\n",
        "Pred_pos = x_testt.iloc[np.where(predicted_selection==1)[0]]\n",
        "Pred_neg = x_testt.iloc[np.where(predicted_selection==0)[0]]\n",
        "\n",
        "\n",
        "labels = ['Yes', 'No']\n",
        "men_count = [np.sum(Pred_pos['gender'] == 0), np.sum(Pred_neg['gender'] == 0)]\n",
        "women_count = [np.sum(Pred_pos['gender'] == 1), np.sum(Pred_neg['gender'] == 1)]\n",
        "width = 0.35       # the width of the bars: can also be len(x) sequence\n",
        "\n",
        "fig, ax = plt.subplots()\n",
        "\n",
        "ax.bar(labels, men_count, width, label='Men')\n",
        "ax.bar(labels, women_count, width, bottom=men_count, label='Women')\n",
        "\n",
        "ax.set_ylabel('Number of observations')\n",
        "ax.set_title('Prediction (yes or No) by gender')\n",
        "ax.legend()\n",
        "\n",
        "plt.show()\n",
        "\n",
        "#As we can see, the prediction is still not perfectly fair: there are more\n",
        "#women predicted to be \"yes\" than men. \n",
        "\n",
        "#As the reminder, the sample is quite fair :\n",
        "fig, ax = plt.subplots()\n",
        "Pred_pos = X_train.iloc[np.where(Y_test[\"selected\"] == 1)]\n",
        "Pred_neg = X_train.iloc[np.where(Y_test[\"selected\"] == 0)]\n",
        "men_count = [Pred_pos.shape[0]-np.sum(Pred_pos.gender), Pred_pos.shape[0]-np.sum(Pred_neg.gender)]\n",
        "women_count = [np.sum(Pred_pos.gender), np.sum(Pred_neg.gender)]\n",
        "print(men_count)\n",
        "women_count\n",
        "ax.bar(labels, men_count, width, label='Men')\n",
        "ax.bar(labels, women_count, width, bottom=men_count, label='Women')\n",
        "\n",
        "ax.set_ylabel('Number of observations')\n",
        "ax.set_title('actual yes or no by gender')\n",
        "ax.legend()"
      ],
      "execution_count": null,
      "outputs": [
        {
          "output_type": "stream",
          "text": [
            "Accuracy 0.8727272727272727\n",
            "Precision 0.8795180722891566\n",
            "Recall 0.8690476190476191\n",
            "F-score 0.8742514970059881\n"
          ],
          "name": "stdout"
        },
        {
          "output_type": "display_data",
          "data": {
            "image/png": "[encoded data removed]",
            "text/plain": [
              "<Figure size 720x432 with 1 Axes>"
            ]
          },
          "metadata": {
            "tags": [],
            "needs_background": "light"
          }
        },
        {
          "output_type": "display_data",
          "data": {
            "image/png": "[encoded data removed]",
            "text/plain": [
              "<Figure size 432x288 with 1 Axes>"
            ]
          },
          "metadata": {
            "tags": [],
            "needs_background": "light"
          }
        },
        {
          "output_type": "stream",
          "text": [
            "[182.0, 194.0]\n"
          ],
          "name": "stdout"
        },
        {
          "output_type": "execute_result",
          "data": {
            "text/plain": [
              "<matplotlib.legend.Legend at 0x7f4ceec84910>"
            ]
          },
          "metadata": {
            "tags": []
          },
          "execution_count": 97
        },
        {
          "output_type": "display_data",
          "data": {
            "image/png": "[encoded data removed]",
            "text/plain": [
              "<Figure size 432x288 with 1 Axes>"
            ]
          },
          "metadata": {
            "tags": [],
            "needs_background": "light"
          }
        }
      ]
    },
    {
      "cell_type": "code",
      "metadata": {
        "colab": {
          "base_uri": "https://localhost:8080/",
          "height": 324
        },
        "id": "EAPLjtmm_CqZ",
        "outputId": "e072d916-116d-48f1-bc79-cfe6bc338f8a"
      },
      "source": [
        "#Confusion matrix\n",
        "plt.clf()\n",
        "plt.imshow(confusion_matrix(y_testt, Rfm.predict(x_testt)), interpolation='nearest', cmap=plt.cm.Wistia)\n",
        "classNames = ['Negative','Positive']\n",
        "tick_marks = np.arange(len(classNames))\n",
        "plt.xticks(tick_marks, classNames, rotation=45)\n",
        "plt.yticks(tick_marks, classNames)\n",
        "s = [['TN','FP'], ['FN', 'TP']]\n",
        "for i in range(2):\n",
        "    for j in range(2):\n",
        "        plt.text(j,i, str(s[i][j])+\" = \"+str(confusion_matrix(y_testt, Rfm.predict(x_testt))[i][j]))\n",
        "\n",
        "plt.title('Confusion Matrix ')\n",
        "plt.ylabel('True label')\n",
        "plt.xlabel('Predicted label')\n",
        "plt.show()\n",
        "#Pretty good prediction :) "
      ],
      "execution_count": null,
      "outputs": [
        {
          "output_type": "display_data",
          "data": {
            "image/png": "[encoded data removed]",
            "text/plain": [
              "<Figure size 432x288 with 1 Axes>"
            ]
          },
          "metadata": {
            "tags": [],
            "needs_background": "light"
          }
        }
      ]
    },
    {
      "cell_type": "code",
      "metadata": {
        "id": "begbtHZ6QkXz",
        "colab": {
          "base_uri": "https://localhost:8080/"
        },
        "outputId": "ea00c4c9-1c8b-4bd8-d8cd-07e6c1ff7530"
      },
      "source": [
        "# 7- Another strategy here would be post-processing\n",
        "# train the classifier without re-weighting the samples\n",
        "\n",
        "# Features and output\n",
        "X_r = genderdatafile.drop(['selected'], axis=1)\n",
        "y_r = genderdatafile['selected']\n",
        "\n",
        "#Split the dataset into train and test samples\n",
        "xx_train, xx_test, yy_train, yy_test = train_test_split(X_r.drop('gender',axis=1), y_r,test_size=0.33) \n",
        "\n",
        "# Classifier and fit the model\n",
        "Rfm_p = RandomForestClassifier(max_depth=2)\n",
        "Rfm_p.fit(xx_train, yy_train)\n"
      ],
      "execution_count": null,
      "outputs": [
        {
          "output_type": "execute_result",
          "data": {
            "text/plain": [
              "RandomForestClassifier(bootstrap=True, ccp_alpha=0.0, class_weight=None,\n",
              "                       criterion='gini', max_depth=2, max_features='auto',\n",
              "                       max_leaf_nodes=None, max_samples=None,\n",
              "                       min_impurity_decrease=0.0, min_impurity_split=None,\n",
              "                       min_samples_leaf=1, min_samples_split=2,\n",
              "                       min_weight_fraction_leaf=0.0, n_estimators=100,\n",
              "                       n_jobs=None, oob_score=False, random_state=None,\n",
              "                       verbose=0, warm_start=False)"
            ]
          },
          "metadata": {
            "tags": []
          },
          "execution_count": 23
        }
      ]
    },
    {
      "cell_type": "code",
      "metadata": {
        "id": "sFyT5f7Jxtka"
      },
      "source": [
        "#function to plot ROC\n",
        "from sklearn.metrics import roc_curve\n",
        "from sklearn.metrics import roc_auc_score\n",
        "def plot_roc_curve(fpr, tpr):\n",
        "    plt.plot(fpr, tpr, color='orange', label='ROC',c='r')\n",
        "    plt.plot([0, 1], [0, 1], color='blue', linestyle='--')\n",
        "    plt.xlabel('False Positive Rate')\n",
        "    plt.ylabel('True Positive Rate')\n",
        "    plt.title('Receiver Operating Characteristic (ROC) Curve')\n",
        "    plt.legend()\n",
        "    plt.show()"
      ],
      "execution_count": null,
      "outputs": []
    },
    {
      "cell_type": "code",
      "metadata": {
        "id": "t77Gii-nQpVg",
        "colab": {
          "base_uri": "https://localhost:8080/",
          "height": 485
        },
        "outputId": "4744c24f-cdde-40da-a6b0-b92b45e2f6e2"
      },
      "source": [
        "# 8- Plot ROC curve for the \"protected group\" (sensitive=1)\n",
        "X_train, X_test, Y_train, Y_test = train_test_split(X_r, y_r, test_size=0.33)\n",
        "Women_predd = pd.DataFrame(Rfm_p.predict(X_test[X_test[\"gender\"] == 1].drop(\"gender\",axis = 1)))\n",
        "print(Women_predd.value_counts())\n",
        "print(\"Accuracy for women\",accuracy_score(Y_test[X_test[\"gender\"] == 1], Women_predd))\n",
        "print(\"Precision for women\",precision_score(Y_test[X_test[\"gender\"] == 1], Women_predd))\n",
        "print(\"Recall for women\",recall_score(Y_test[X_test[\"gender\"] == 1], Women_predd))\n",
        "print(\"F-score for women\",f1_score(Y_test[X_test[\"gender\"] == 1], Women_predd))\n",
        "fpr, tpr, thresholds = roc_curve(Y_test[X_test['gender']==1], Women_predd)\n",
        "plot_roc_curve(fpr, tpr)\n",
        "auc = roc_auc_score(Y_test[X_test['gender']==1], Women_predd)\n",
        "print('AUC: %.2f' % auc)"
      ],
      "execution_count": null,
      "outputs": [
        {
          "output_type": "stream",
          "text": [
            "1    200\n",
            "0    103\n",
            "dtype: int64\n",
            "Accuracy for women 0.8646864686468647\n",
            "Precision for women 0.915\n",
            "Recall for women 0.8840579710144928\n",
            "F-score for women 0.8992628992628994\n"
          ],
          "name": "stdout"
        },
        {
          "output_type": "stream",
          "text": [
            "/usr/local/lib/python3.7/dist-packages/ipykernel_launcher.py:5: MatplotlibDeprecationWarning: Saw kwargs ['c', 'color'] which are all aliases for 'color'.  Kept value from 'color'.  Passing multiple aliases for the same property will raise a TypeError in 3.3.\n",
            "  \"\"\"\n"
          ],
          "name": "stderr"
        },
        {
          "output_type": "display_data",
          "data": {
            "image/png": "[encoded data removed]",
            "text/plain": [
              "<Figure size 432x288 with 1 Axes>"
            ]
          },
          "metadata": {
            "tags": [],
            "needs_background": "light"
          }
        },
        {
          "output_type": "stream",
          "text": [
            "AUC: 0.85\n"
          ],
          "name": "stdout"
        }
      ]
    },
    {
      "cell_type": "code",
      "metadata": {
        "id": "vSrFUtCWQra4",
        "colab": {
          "base_uri": "https://localhost:8080/",
          "height": 502
        },
        "outputId": "b66d9160-9564-439c-d835-b0991465878c"
      },
      "source": [
        "# 9- On the same graph, plot the ROC curve for the \"unprotected group\" (sensitive=0)\n",
        "X_tr, X_te, Y_tr, Y_te = train_test_split(X_r, y_r, test_size=0.33)\n",
        "men_predd = pd.DataFrame(Rfm_p.predict(X_te[X_te[\"gender\"] == 0].drop(\"gender\",axis = 1)))\n",
        "print(men_predd.value_counts())\n",
        "print(\"Accuracy for men\",accuracy_score(Y_te[X_te[\"gender\"] == 0], men_predd))\n",
        "print(\"Precision for men\",precision_score(Y_te[X_te[\"gender\"] == 0], men_predd))\n",
        "print(\"Recall for men\",recall_score(Y_te[X_te[\"gender\"] == 0], men_predd))\n",
        "print(\"F-score for men\",f1_score(Y_te[X_te[\"gender\"] == 0], men_predd))\n",
        "fpr1, tpr1, thresholds1 = roc_curve(Y_te[X_te['gender']==0], men_predd)\n",
        "#plot_roc_curve(fpr1, tpr1)\n",
        "auc1 = roc_auc_score(Y_te[X_te['gender']==0], men_predd)\n",
        "print('AUC: %.2f' % auc1)\n",
        "\n",
        "\n",
        "\n",
        "plt.plot(fpr1, tpr1, color='orange', label='ROC men',c='r')\n",
        "plt.plot(fpr, tpr, color='green', label='ROC women',c='r')\n",
        "plt.plot([0, 1], [0, 1], color='blue', linestyle='--')\n",
        "plt.xlabel('False Positive Rate')\n",
        "plt.ylabel('True Positive Rate')\n",
        "plt.title('Receiver Operating Characteristic (ROC) Curve')\n",
        "plt.legend()\n",
        "plt.show()"
      ],
      "execution_count": null,
      "outputs": [
        {
          "output_type": "stream",
          "text": [
            "0    266\n",
            "1    101\n",
            "dtype: int64\n",
            "Accuracy for men 0.8583106267029973\n",
            "Precision for men 0.8712871287128713\n",
            "Recall for men 0.6929133858267716\n",
            "F-score for men 0.7719298245614035\n",
            "AUC: 0.82\n"
          ],
          "name": "stdout"
        },
        {
          "output_type": "stream",
          "text": [
            "/usr/local/lib/python3.7/dist-packages/ipykernel_launcher.py:16: MatplotlibDeprecationWarning: Saw kwargs ['c', 'color'] which are all aliases for 'color'.  Kept value from 'color'.  Passing multiple aliases for the same property will raise a TypeError in 3.3.\n",
            "  app.launch_new_instance()\n",
            "/usr/local/lib/python3.7/dist-packages/ipykernel_launcher.py:17: MatplotlibDeprecationWarning: Saw kwargs ['c', 'color'] which are all aliases for 'color'.  Kept value from 'color'.  Passing multiple aliases for the same property will raise a TypeError in 3.3.\n"
          ],
          "name": "stderr"
        },
        {
          "output_type": "display_data",
          "data": {
            "image/png": "[encoded data removed]",
            "text/plain": [
              "<Figure size 432x288 with 1 Axes>"
            ]
          },
          "metadata": {
            "tags": [],
            "needs_background": "light"
          }
        }
      ]
    },
    {
      "cell_type": "code",
      "metadata": {
        "id": "QsCOAZDdQs_w",
        "colab": {
          "base_uri": "https://localhost:8080/",
          "height": 383
        },
        "outputId": "14b85b7d-10f2-448f-d901-5c3da4f9fd80"
      },
      "source": [
        "# 10- Find a fair thresholding rule on the prediction of your classifier\n",
        "plt.plot(fpr1, tpr1, color='orange', label='ROC men',c='r')\n",
        "plt.plot(fpr, tpr, color='green', label='ROC women',c='r')\n",
        "plt.plot([0, 1], [0, 1], color='blue', linestyle='--')\n",
        "plt.hlines(0.72, 0, 1, colors='red', linestyles='dashed', label='Threshold for TP')\n",
        "plt.vlines(0.14, 0, 1, colors='red', linestyles='dashed', label='Threshold for FP')\n",
        "\n",
        "plt.xlabel('False Positive Rate')\n",
        "plt.ylabel('True Positive Rate')\n",
        "plt.title('Receiver Operating Characteristic (ROC) Curve')\n",
        "plt.legend()\n",
        "plt.show()\n",
        "\n",
        "#As the variable to predict is equal to 1 in 50% of the case in our train sample, \n",
        "#the ideal would be to choose a true positive rate threshold at 50%. \n",
        "#However, at the threshold of 50%, the prediction is not fair:\n",
        "#Indeed, men have a  false positive rate of around 30 % and women have \n",
        "#a false positive rate of around 10% (approximately).\n",
        "#To have a fair prediction, we could choose the true positive rate where yellow\n",
        "#and green curve meet.\n",
        "#This would mean men and women would have the same false positive rate and \n",
        "#True positive rate. Hence there is no difference in prediction between \n",
        "#both group.\n",
        "#This threshold is at 72% of true positive rate (meaning 14% of False positive rate)."
      ],
      "execution_count": null,
      "outputs": [
        {
          "output_type": "stream",
          "text": [
            "/usr/local/lib/python3.7/dist-packages/ipykernel_launcher.py:2: MatplotlibDeprecationWarning: Saw kwargs ['c', 'color'] which are all aliases for 'color'.  Kept value from 'color'.  Passing multiple aliases for the same property will raise a TypeError in 3.3.\n",
            "  \n",
            "/usr/local/lib/python3.7/dist-packages/ipykernel_launcher.py:3: MatplotlibDeprecationWarning: Saw kwargs ['c', 'color'] which are all aliases for 'color'.  Kept value from 'color'.  Passing multiple aliases for the same property will raise a TypeError in 3.3.\n",
            "  This is separate from the ipykernel package so we can avoid doing imports until\n"
          ],
          "name": "stderr"
        },
        {
          "output_type": "display_data",
          "data": {
            "image/png": "[encoded data removed]",
            "text/plain": [
              "<Figure size 432x288 with 1 Axes>"
            ]
          },
          "metadata": {
            "tags": [],
            "needs_background": "light"
          }
        }
      ]
    },
    {
      "cell_type": "code",
      "metadata": {
        "id": "x-YxnwaTQuJw",
        "colab": {
          "base_uri": "https://localhost:8080/",
          "height": 383
        },
        "outputId": "0896a9d5-edd9-4d3c-e065-a3f98a429ee7"
      },
      "source": [
        "# 11- Evaluate trade-off between accuracy and fairness\n",
        "#A model with perfect accuracy would require a true positive rate of 50% to be true to our data\n",
        "#If we look at the graph, going to 0.5 of true positive rate to 0.76 entails a rise \n",
        "#in the False positive raise of 0.14 - 0.4 = 10% ! Meaning there will be less true positives.\n",
        "# Then, Accuracy = (tp + tn)/allsample will also go down by a bit less than 10%.\n",
        "#So to get a perfectly fair prediction, we do have to sacrifice acccuracy. \n",
        "\n",
        "\n",
        "plt.plot(fpr1, tpr1, color='orange', label='ROC men',c='r')\n",
        "plt.plot(fpr, tpr, color='green', label='ROC women',c='r')\n",
        "plt.hlines(0.5, 0, 1, colors='blue', linestyles='dashed', label='Threshold TP for acc')\n",
        "plt.vlines(0.04, 0, 1, colors='blue', linestyles='dashed', label='Threshold FP for acc')\n",
        "plt.hlines(0.72, 0, 1, colors='red', linestyles='dashed', label='Threshold TP for fairness')\n",
        "plt.vlines(0.14, 0, 1, colors='red', linestyles='dashed', label='Threshold FP for fairness')\n",
        "\n",
        "plt.xlabel('False Positive Rate')\n",
        "plt.ylabel('True Positive Rate')\n",
        "plt.title('Receiver Operating Characteristic (ROC) Curve')\n",
        "plt.legend()\n",
        "plt.show()"
      ],
      "execution_count": null,
      "outputs": [
        {
          "output_type": "stream",
          "text": [
            "/usr/local/lib/python3.7/dist-packages/ipykernel_launcher.py:7: MatplotlibDeprecationWarning: Saw kwargs ['c', 'color'] which are all aliases for 'color'.  Kept value from 'color'.  Passing multiple aliases for the same property will raise a TypeError in 3.3.\n",
            "  import sys\n",
            "/usr/local/lib/python3.7/dist-packages/ipykernel_launcher.py:8: MatplotlibDeprecationWarning: Saw kwargs ['c', 'color'] which are all aliases for 'color'.  Kept value from 'color'.  Passing multiple aliases for the same property will raise a TypeError in 3.3.\n",
            "  \n"
          ],
          "name": "stderr"
        },
        {
          "output_type": "display_data",
          "data": {
            "image/png": "[encoded data removed]",
            "text/plain": [
              "<Figure size 432x288 with 1 Axes>"
            ]
          },
          "metadata": {
            "tags": [],
            "needs_background": "light"
          }
        }
      ]
    }
  ]
}